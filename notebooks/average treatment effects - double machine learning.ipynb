{
 "cells": [
  {
   "cell_type": "code",
   "execution_count": 2,
   "metadata": {},
   "outputs": [],
   "source": [
    "import numpy as np\n",
    "import pandas as pd\n",
    "import networkx as nx\n",
    "import matplotlib.pyplot as plt\n",
    "from dowhy import gcm\n",
    "from sklearn.linear_model import LinearRegression\n",
    "from econml.dml import LinearDML\n",
    "\n",
    "# Set colours for plots\n",
    "COLORS = [\n",
    "    '#00B0F0',\n",
    "    '#FF0000',\n",
    "    '#B0F000'\n",
    "]"
   ]
  },
  {
   "cell_type": "code",
   "execution_count": 3,
   "metadata": {},
   "outputs": [],
   "source": [
    "def plot_graph(input_graph, node_lookup):\n",
    "    '''\n",
    "    Function to visualise graphs.\n",
    "\n",
    "    Args:\n",
    "        input_graph (array): Adjacency matrix representing graph\n",
    "        node_lookup (dict): Dictionary containing node names.\n",
    "    '''\n",
    "    \n",
    "    graph = nx.DiGraph(input_graph)\n",
    "\n",
    "    plt.figure(figsize=(7, 7))\n",
    "    nx.draw(\n",
    "    G=graph,\n",
    "    node_color=COLORS[0],\n",
    "    node_size=7000,\n",
    "    arrowsize=17,\n",
    "    with_labels=True,\n",
    "    labels=node_lookup,\n",
    "    font_color='white',\n",
    "    font_size=9,\n",
    "    pos=nx.circular_layout(graph)\n",
    "    )"
   ]
  },
  {
   "cell_type": "code",
   "execution_count": 10,
   "metadata": {},
   "outputs": [],
   "source": [
    "def data_generator(node_lookup, population, observations, include):\n",
    "    '''\n",
    "    A data generating function which has the flexibility to delete nodes - Comparisons of including vs deleting a selected node enables us to calculate ground truth counterfactuals.\n",
    "\n",
    "    Args:\n",
    "        node_lookup (dict): Dictionary containing node names.\n",
    "        population (int): The population size to use when generating the root nodes.\n",
    "        observations (int): The number of observations to create in the data.\n",
    "        include (array): Array which indicates whether to include each node (corresponding to the node_lookup). 1 = include / 0 = delete.\n",
    "\n",
    "    Returns:\n",
    "        DataFrame: Dataframe containing the generated data.\n",
    "    '''\n",
    "    \n",
    "    df = pd.DataFrame(columns=node_lookup.values())\n",
    "    df[node_lookup[0]] = (population * np.random.uniform(0.90, 0.95, observations)) * include[0]\n",
    "    df[node_lookup[1]] = ((0.25 * df[node_lookup[0]]) + (population * np.random.uniform(0.20, 0.30, observations))) * include[1]\n",
    "    df[node_lookup[2]] = (0.25 * df[node_lookup[0]]) + (0.75 * df[node_lookup[1]])\n",
    "    \n",
    "    return df"
   ]
  },
  {
   "cell_type": "code",
   "execution_count": 5,
   "metadata": {},
   "outputs": [],
   "source": [
    "def counterfactual_impact(target_value_act, target_value_cf):\n",
    "    '''\n",
    "    Given an actual and counterfactual target value, calculate the percentage change.\n",
    "\n",
    "    Args:\n",
    "        target_value_act (series): Series containing the actual target value.\n",
    "        target_value_cf (series): Series containing the counterfactual target value.\n",
    "\n",
    "    Returns:\n",
    "        float: The counterfactual percentage change to the target value.\n",
    "    '''\n",
    "    \n",
    "    target_change_perc = round((target_value_act.sum() - target_value_cf.sum()) / target_value_act.sum(), 2)\n",
    "    \n",
    "    return target_change_perc"
   ]
  },
  {
   "cell_type": "code",
   "execution_count": 11,
   "metadata": {},
   "outputs": [
    {
     "data": {
      "image/png": "[encoded data removed]",
      "text/plain": [
       "<Figure size 700x700 with 1 Axes>"
      ]
     },
     "metadata": {},
     "output_type": "display_data"
    }
   ],
   "source": [
    "# Create node lookup for channels\n",
    "node_lookup = {0: 'demand',\n",
    "    1: 'spend',                \n",
    "    2: 'sign ups'                                                                             \n",
    " }\n",
    "\n",
    "total_nodes = len(node_lookup)\n",
    "\n",
    "# Create adjacency matrix - this is the basis for our known graph\n",
    "graph_actual = np.zeros((total_nodes, total_nodes))\n",
    "\n",
    "# Create known graph using expert domain knowledge\n",
    "graph_actual[0, 1] = 1.0 # demand -> spend\n",
    "graph_actual[0, 2] = 1.0 # demand -> signups\n",
    "graph_actual[1, 2] = 1.0 # spend -> signups\n",
    "\n",
    "plot_graph(input_graph=graph_actual, node_lookup=node_lookup)"
   ]
  },
  {
   "cell_type": "code",
   "execution_count": 37,
   "metadata": {},
   "outputs": [],
   "source": [
    "# Set random seed\n",
    "np.random.seed(999)\n",
    "\n",
    "# Generate data\n",
    "df_original = data_generator(node_lookup=node_lookup, population=10000, observations=365, include=[1, 1])\n",
    "df_del_demand = data_generator(node_lookup=node_lookup, population=10000, observations=365, include=[0, 1])\n",
    "df_del_spend = data_generator(node_lookup=node_lookup, population=10000, observations=365, include=[1, 0])"
   ]
  },
  {
   "cell_type": "code",
   "execution_count": 38,
   "metadata": {},
   "outputs": [
    {
     "data": {
      "image/png": "[encoded data removed]",
      "text/latex": [
       "$\\displaystyle 0.69$"
      ],
      "text/plain": [
       "0.69"
      ]
     },
     "execution_count": 38,
     "metadata": {},
     "output_type": "execute_result"
    }
   ],
   "source": [
    "counterfactual_impact(target_value_act=df_original['sign ups'], target_value_cf=df_del_demand['sign ups'])"
   ]
  },
  {
   "cell_type": "code",
   "execution_count": 39,
   "metadata": {},
   "outputs": [
    {
     "data": {
      "image/png": "[encoded data removed]",
      "text/latex": [
       "$\\displaystyle 0.61$"
      ],
      "text/plain": [
       "0.61"
      ]
     },
     "execution_count": 39,
     "metadata": {},
     "output_type": "execute_result"
    }
   ],
   "source": [
    "counterfactual_impact(target_value_act=df_original['sign ups'], target_value_cf=df_del_spend['sign ups'])"
   ]
  },
  {
   "cell_type": "code",
   "execution_count": 21,
   "metadata": {},
   "outputs": [
    {
     "name": "stdout",
     "output_type": "stream",
     "text": [
      "Intercept: 0.0\n",
      "Coefficient: [0.25 0.75]\n"
     ]
    }
   ],
   "source": [
    "# Linear regression\n",
    "y = df_original['sign ups'].copy()\n",
    "X = df_original[['demand', 'spend']].copy()\n",
    "lin_model = LinearRegression()\n",
    "lin_model = lin_model.fit(X, y)\n",
    "y_pred = lin_model.predict(X)\n",
    "\n",
    "# Printing the coefficients\n",
    "print(f'Intercept: {round(lin_model.intercept_, 4)}')\n",
    "print(f'Coefficient: {lin_model.coef_}')"
   ]
  },
  {
   "cell_type": "code",
   "execution_count": 22,
   "metadata": {},
   "outputs": [
    {
     "data": {
      "image/png": "[encoded data removed]",
      "text/latex": [
       "$\\displaystyle 0.39$"
      ],
      "text/plain": [
       "0.39"
      ]
     },
     "execution_count": 22,
     "metadata": {},
     "output_type": "execute_result"
    }
   ],
   "source": [
    "round((df_original['demand'].sum() * lin_model.coef_[0]) / df_original['sign ups'].sum(), 2)"
   ]
  },
  {
   "cell_type": "code",
   "execution_count": 23,
   "metadata": {},
   "outputs": [
    {
     "data": {
      "image/png": "[encoded data removed]",
      "text/latex": [
       "$\\displaystyle 0.61$"
      ],
      "text/plain": [
       "0.61"
      ]
     },
     "execution_count": 23,
     "metadata": {},
     "output_type": "execute_result"
    }
   ],
   "source": [
    "round((df_original['spend'].sum() * lin_model.coef_[1]) / df_original['sign ups'].sum(), 2)"
   ]
  },
  {
   "cell_type": "code",
   "execution_count": 25,
   "metadata": {},
   "outputs": [
    {
     "data": {
      "text/plain": [
       "<econml.dml.dml.LinearDML at 0x1a6b3378f10>"
      ]
     },
     "execution_count": 25,
     "metadata": {},
     "output_type": "execute_result"
    }
   ],
   "source": [
    "# DML\n",
    "y = df_original['sign ups']\n",
    "T = df_original[['spend']]\n",
    "X = df_original[['demand']]\n",
    "\n",
    "est = LinearDML()\n",
    "est.fit(y, T, X=X, W=None)"
   ]
  },
  {
   "cell_type": "code",
   "execution_count": 26,
   "metadata": {},
   "outputs": [
    {
     "data": {
      "image/png": "[encoded data removed]",
      "text/latex": [
       "$\\displaystyle 0.61$"
      ],
      "text/plain": [
       "0.61"
      ]
     },
     "execution_count": 26,
     "metadata": {},
     "output_type": "execute_result"
    }
   ],
   "source": [
    "round((df_original['spend'].sum() * est.ate(X)) / df_original['sign ups'].sum(), 2)"
   ]
  }
 ],
 "metadata": {
  "kernelspec": {
   "display_name": "venv",
   "language": "python",
   "name": "python3"
  },
  "language_info": {
   "codemirror_mode": {
    "name": "ipython",
    "version": 3
   },
   "file_extension": ".py",
   "mimetype": "text/x-python",
   "name": "python",
   "nbconvert_exporter": "python",
   "pygments_lexer": "ipython3",
   "version": "3.11.4"
  }
 },
 "nbformat": 4,
 "nbformat_minor": 2
}
